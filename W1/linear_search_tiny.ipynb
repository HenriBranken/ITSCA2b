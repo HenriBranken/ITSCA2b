{
 "cells": [
  {
   "cell_type": "markdown",
   "id": "7bd6a137",
   "metadata": {},
   "source": [
    "# Linear Search\n",
    "\n",
    "**Goal:** check if a value is present in a list by scanning from left to right.\n",
    "\n",
    "**How it works**\n",
    "1. Start at index `0`\n",
    "2. Compare each element to the target\n",
    "3. Stop early if you find it; otherwise continue until the end\n",
    "\n",
    "**Cost:** Worst-case time is **O(n)** comparisons (must look through the whole list).  \n",
    "**Best case:** O(1) if the first element matches.  \n",
    "**When to use:** very small lists or unsorted data.  \n",
    "**When not to:** large lists where you can sort or use faster structures (e.g., binary search on sorted lists or a `set`/`dict`)."
   ]
  },
  {
   "cell_type": "code",
   "execution_count": null,
   "id": "b098499f",
   "metadata": {},
   "outputs": [],
   "source": [
    "def linear_search(values, search_for):\n",
    "    search_at = 0\n",
    "    search_res = False\n",
    "\n",
    "    while search_at < len(values) and search_res is False:\n",
    "        if values[search_at] == search_for:\n",
    "            search_res = True\n",
    "        else:\n",
    "            search_at = search_at + 1\n",
    "\n",
    "    return search_res"
   ]
  },
  {
   "cell_type": "markdown",
   "id": "dfa198d0",
   "metadata": {},
   "source": [
    "### Quick demo\n",
    "We try three cases:\n",
    "- Target at the **front** (best case)\n",
    "- Target at the **end** (worst case when present)\n",
    "- Target **absent**"
   ]
  },
  {
   "cell_type": "code",
   "execution_count": null,
   "id": "eb7f580c",
   "metadata": {},
   "outputs": [],
   "source": [
    "values = [7, 2, 9, 4, 5, 1, 8]\n",
    "\n",
    "print(\"Front (7)   :\", linear_search(values, 7))   # True\n",
    "print(\"End (8)     :\", linear_search(values, 8))   # True\n",
    "print(\"Absent (42) :\", linear_search(values, 42))  # False"
   ]
  },
  {
   "cell_type": "markdown",
   "id": "1cb7b49e",
   "metadata": {},
   "source": [
    "### Try it yourself\n",
    "- Change the list and target to see different outcomes.\n",
    "- **Stretch:** Modify `linear_search` to return the **index** where the value is found (or `-1` if not found).  \n",
    "  Hint: return `search_at` instead of a boolean."
   ]
  }
 ],
 "metadata": {
  "language_info": {
   "name": "python"
  }
 },
 "nbformat": 4,
 "nbformat_minor": 5
}
